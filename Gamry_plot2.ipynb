{
 "cells": [
  {
   "cell_type": "code",
   "execution_count": 16,
   "id": "1ffb1cf9-1d0d-45d2-bfe8-23827ab6519e",
   "metadata": {},
   "outputs": [
    {
     "ename": "AttributeError",
     "evalue": "'CyclicVoltammetry' object has no attribute 'curve'",
     "output_type": "error",
     "traceback": [
      "\u001b[0;31m---------------------------------------------------------------------------\u001b[0m",
      "\u001b[0;31mAttributeError\u001b[0m                            Traceback (most recent call last)",
      "Input \u001b[0;32mIn [16]\u001b[0m, in \u001b[0;36m<cell line: 25>\u001b[0;34m()\u001b[0m\n\u001b[1;32m     26\u001b[0m p\u001b[38;5;241m.\u001b[39mload(f)\n\u001b[1;32m     28\u001b[0m \u001b[38;5;66;03m# generate a plot based on the first curve listed in the file.\u001b[39;00m\n\u001b[0;32m---> 29\u001b[0m data \u001b[38;5;241m=\u001b[39m \u001b[43mp\u001b[49m\u001b[38;5;241;43m.\u001b[39;49m\u001b[43mcurve\u001b[49m(p\u001b[38;5;241m.\u001b[39mcurve_count) \n\u001b[1;32m     32\u001b[0m \u001b[38;5;66;03m# print to screen\u001b[39;00m\n\u001b[1;32m     33\u001b[0m \u001b[38;5;28mprint\u001b[39m(\u001b[38;5;124m'\u001b[39m\u001b[38;5;124mData Preview: Last Curve\u001b[39m\u001b[38;5;124m'\u001b[39m)\n",
      "\u001b[0;31mAttributeError\u001b[0m: 'CyclicVoltammetry' object has no attribute 'curve'"
     ]
    }
   ],
   "source": [
    "import locale\n",
    "import os\n",
    "import pandas as pa\n",
    "import gamry_parser as parser\n",
    "import random\n",
    "import matplotlib.pyplot as plt\n",
    "\n",
    "locale.setlocale(locale.LC_ALL, 'de_DE.UTF-8')\n",
    "\n",
    "#directory = 'UnititledtestLSV.DAT'\n",
    "#os.chdir(directory)\n",
    "    \n",
    "    ## to display raw data\n",
    "# with open('UntitledtestLSV.DAT', 'r') as raw:   \n",
    "#  print(raw.read())\n",
    "    \n",
    "\n",
    "# file = 'UntitledtestLSV.DAT'\n",
    "# gp = parser.GamryParser()\n",
    "# gp.load(filename=file)\n",
    "\n",
    "p = parser.CyclicVoltammetry()\n",
    "experiment = [\"Sample.DAT\"] \n",
    "\n",
    "for f in experiment:\n",
    "    p.load(f)\n",
    "    \n",
    "    # generate a plot based on the first curve listed in the file.\n",
    "    data = p.curve(p.curve_count) \n",
    "\n",
    "    \n",
    "    # print to screen\n",
    "    print('Data Preview: Last Curve')\n",
    "    print(data.iloc[:5])\n",
    "    \n",
    "    # matplotlib fig\n",
    "    if show_plots:\n",
    "        fig, ax = plt.subplots(figsize=(18,8))\n",
    "        for i in range(p.curve_count):\n",
    "            data = p.curve(i)\n",
    "            trace = ax.plot(data['Vf'], data['Im']*1e6, label=\"curve {}\".format(i))\n",
    "            \n",
    "        ax.set_title(\"{}, {} curves\".format(f, p.curve_count), fontsize=18)\n",
    "        ax.set_xlabel('Potential (V)')\n",
    "        ax.set_ylabel('Current (A)', fontsize=14)\n",
    "        plt.show()\n",
    "\n",
    "    ## test read-out from file\n",
    "# print(\"experiment type: {}\".format(gp.get_experiment_type()))\n",
    "# print(\"loaded curves: {}\".format(gp.get_curve_count()))\n",
    "\n",
    "# curve_index = random.randint(1,gp.get_curve_count())\n",
    "# print(\"showing curve #{}\".format(curve_index))"
   ]
  },
  {
   "cell_type": "code",
   "execution_count": null,
   "id": "0dea2005-6288-4245-9d13-bffda57d1be0",
   "metadata": {},
   "outputs": [],
   "source": []
  },
  {
   "cell_type": "code",
   "execution_count": null,
   "id": "e7b03638-92c1-40c7-9322-4dd3abf80c62",
   "metadata": {},
   "outputs": [],
   "source": []
  }
 ],
 "metadata": {
  "kernelspec": {
   "display_name": "Python 3 (ipykernel)",
   "language": "python",
   "name": "python3"
  },
  "language_info": {
   "codemirror_mode": {
    "name": "ipython",
    "version": 3
   },
   "file_extension": ".py",
   "mimetype": "text/x-python",
   "name": "python",
   "nbconvert_exporter": "python",
   "pygments_lexer": "ipython3",
   "version": "3.9.12"
  }
 },
 "nbformat": 4,
 "nbformat_minor": 5
}

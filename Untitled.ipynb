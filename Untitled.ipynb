{
 "cells": [
  {
   "cell_type": "code",
   "execution_count": 10,
   "id": "04152aa2-2fc8-41e5-aa33-2dcdbac5b93a",
   "metadata": {},
   "outputs": [
    {
     "data": {
      "text/html": [
       "<div>\n",
       "<style scoped>\n",
       "    .dataframe tbody tr th:only-of-type {\n",
       "        vertical-align: middle;\n",
       "    }\n",
       "\n",
       "    .dataframe tbody tr th {\n",
       "        vertical-align: top;\n",
       "    }\n",
       "\n",
       "    .dataframe thead th {\n",
       "        text-align: right;\n",
       "    }\n",
       "</style>\n",
       "<table border=\"1\" class=\"dataframe\">\n",
       "  <thead>\n",
       "    <tr style=\"text-align: right;\">\n",
       "      <th></th>\n",
       "      <th>XY</th>\n",
       "    </tr>\n",
       "  </thead>\n",
       "  <tbody>\n",
       "    <tr>\n",
       "      <th>NaN</th>\n",
       "      <td>CURVE (9_CHRONOPOT_-500mAcm-2.DTA)</td>\n",
       "    </tr>\n",
       "    <tr>\n",
       "      <th>0,000e+000</th>\n",
       "      <td>-1,976e+000</td>\n",
       "    </tr>\n",
       "    <tr>\n",
       "      <th>2,000e+000</th>\n",
       "      <td>-1,970e+000</td>\n",
       "    </tr>\n",
       "    <tr>\n",
       "      <th>4,000e+000</th>\n",
       "      <td>-1,963e+000</td>\n",
       "    </tr>\n",
       "    <tr>\n",
       "      <th>6,000e+000</th>\n",
       "      <td>-1,953e+000</td>\n",
       "    </tr>\n",
       "  </tbody>\n",
       "</table>\n",
       "</div>"
      ],
      "text/plain": [
       "                                            XY\n",
       "NaN         CURVE (9_CHRONOPOT_-500mAcm-2.DTA)\n",
       "0,000e+000                         -1,976e+000\n",
       "2,000e+000                         -1,970e+000\n",
       "4,000e+000                         -1,963e+000\n",
       "6,000e+000                         -1,953e+000"
      ]
     },
     "execution_count": 10,
     "metadata": {},
     "output_type": "execute_result"
    }
   ],
   "source": [
    "import pandas as pd\n",
    "\n",
    "\n",
    "df = pd.read_csv('https://raw.githubusercontent.com/sabrina-hu/Fe4Co3Ni_Gamry_electrochemdata/main/20220718_Fe4Co3Ni2_3.05mgcm2_20wtXA9_iPaH2O_75C_12hr_chronop_-500mAcm-2', on_bad_lines='skip', sep='\\t', engine='python')\n",
    "df.head()\n"
   ]
  },
  {
   "cell_type": "code",
   "execution_count": null,
   "id": "0dea2005-6288-4245-9d13-bffda57d1be0",
   "metadata": {},
   "outputs": [],
   "source": []
  },
  {
   "cell_type": "code",
   "execution_count": null,
   "id": "e7b03638-92c1-40c7-9322-4dd3abf80c62",
   "metadata": {},
   "outputs": [],
   "source": []
  }
 ],
 "metadata": {
  "kernelspec": {
   "display_name": "Python 3 (ipykernel)",
   "language": "python",
   "name": "python3"
  },
  "language_info": {
   "codemirror_mode": {
    "name": "ipython",
    "version": 3
   },
   "file_extension": ".py",
   "mimetype": "text/x-python",
   "name": "python",
   "nbconvert_exporter": "python",
   "pygments_lexer": "ipython3",
   "version": "3.9.12"
  }
 },
 "nbformat": 4,
 "nbformat_minor": 5
}

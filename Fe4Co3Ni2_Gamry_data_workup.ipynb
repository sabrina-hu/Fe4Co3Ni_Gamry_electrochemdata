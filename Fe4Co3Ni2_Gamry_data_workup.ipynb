{
 "cells": [
  {
   "cell_type": "code",
   "execution_count": 36,
   "id": "7057b59e",
   "metadata": {},
   "outputs": [
    {
     "ename": "AssertionError",
     "evalue": "Must read file header before curves can be extracted.",
     "output_type": "error",
     "traceback": [
      "\u001b[0;31m---------------------------------------------------------------------------\u001b[0m",
      "\u001b[0;31mAssertionError\u001b[0m                            Traceback (most recent call last)",
      "Input \u001b[0;32mIn [36]\u001b[0m, in \u001b[0;36m<cell line: 11>\u001b[0;34m()\u001b[0m\n\u001b[1;32m      9\u001b[0m file \u001b[38;5;241m=\u001b[39m \u001b[38;5;124m'\u001b[39m\u001b[38;5;124m/Users/sabrinahu/Documents/COLLEGE FOLDERS/In/WASHINGTON UNIV. IN ST. LOUIS 11.4.18/Apfel group/electrochem data/20220718_Fe4Co3Ni2_3.05mgcm2_20wtXA9_iPaH2O_75C_12hr_chronop_-500mAcm-2\u001b[39m\u001b[38;5;124m'\u001b[39m\n\u001b[1;32m     10\u001b[0m gp \u001b[38;5;241m=\u001b[39m parser\u001b[38;5;241m.\u001b[39mGamryParser()\n\u001b[0;32m---> 11\u001b[0m \u001b[43mgp\u001b[49m\u001b[38;5;241;43m.\u001b[39;49m\u001b[43mload\u001b[49m\u001b[43m(\u001b[49m\u001b[43mfilename\u001b[49m\u001b[38;5;241;43m=\u001b[39;49m\u001b[43mfile\u001b[49m\u001b[43m)\u001b[49m\n\u001b[1;32m     13\u001b[0m \u001b[38;5;28mprint\u001b[39m(\u001b[38;5;124m\"\u001b[39m\u001b[38;5;124mexperiment type: \u001b[39m\u001b[38;5;132;01m{}\u001b[39;00m\u001b[38;5;124m\"\u001b[39m\u001b[38;5;241m.\u001b[39mformat(gp\u001b[38;5;241m.\u001b[39mget_experiment_type()))\n\u001b[1;32m     14\u001b[0m \u001b[38;5;28mprint\u001b[39m(\u001b[38;5;124m\"\u001b[39m\u001b[38;5;124mloaded curves: \u001b[39m\u001b[38;5;132;01m{}\u001b[39;00m\u001b[38;5;124m\"\u001b[39m\u001b[38;5;241m.\u001b[39mformat(gp\u001b[38;5;241m.\u001b[39mget_curve_count()))\n",
      "File \u001b[0;32m~/opt/anaconda3/lib/python3.9/site-packages/gamry_parser/gamryparser.py:78\u001b[0m, in \u001b[0;36mGamryParser.load\u001b[0;34m(self, filename, to_timestamp)\u001b[0m\n\u001b[1;32m     73\u001b[0m \u001b[38;5;28;01massert\u001b[39;00m os\u001b[38;5;241m.\u001b[39mpath\u001b[38;5;241m.\u001b[39mexists(\u001b[38;5;28mself\u001b[39m\u001b[38;5;241m.\u001b[39mfname), \u001b[38;5;124m\"\u001b[39m\u001b[38;5;124mThe file \u001b[39m\u001b[38;5;124m'\u001b[39m\u001b[38;5;132;01m{}\u001b[39;00m\u001b[38;5;124m'\u001b[39m\u001b[38;5;124m was not found.\u001b[39m\u001b[38;5;124m\"\u001b[39m\u001b[38;5;241m.\u001b[39mformat(\n\u001b[1;32m     74\u001b[0m     \u001b[38;5;28mself\u001b[39m\u001b[38;5;241m.\u001b[39mfname\n\u001b[1;32m     75\u001b[0m )\n\u001b[1;32m     77\u001b[0m \u001b[38;5;28mself\u001b[39m\u001b[38;5;241m.\u001b[39mread_header()\n\u001b[0;32m---> 78\u001b[0m \u001b[38;5;28;43mself\u001b[39;49m\u001b[38;5;241;43m.\u001b[39;49m\u001b[43mread_curves\u001b[49m\u001b[43m(\u001b[49m\u001b[43m)\u001b[49m\n\u001b[1;32m     79\u001b[0m \u001b[38;5;28;01mif\u001b[39;00m \u001b[38;5;28mself\u001b[39m\u001b[38;5;241m.\u001b[39mto_timestamp:\n\u001b[1;32m     80\u001b[0m     \u001b[38;5;28mself\u001b[39m\u001b[38;5;241m.\u001b[39m_convert_T_to_Timestamp()\n",
      "File \u001b[0;32m~/opt/anaconda3/lib/python3.9/site-packages/gamry_parser/gamryparser.py:278\u001b[0m, in \u001b[0;36mGamryParser.read_curves\u001b[0;34m(self)\u001b[0m\n\u001b[1;32m    268\u001b[0m \u001b[38;5;28;01mdef\u001b[39;00m \u001b[38;5;21mread_curves\u001b[39m(\u001b[38;5;28mself\u001b[39m) \u001b[38;5;241m-\u001b[39m\u001b[38;5;241m>\u001b[39m \u001b[38;5;28mlist\u001b[39m:\n\u001b[1;32m    269\u001b[0m     \u001b[38;5;124;03m\"\"\"helper function to iterate through curves in a dta file and save as individual dataframes\u001b[39;00m\n\u001b[1;32m    270\u001b[0m \n\u001b[1;32m    271\u001b[0m \u001b[38;5;124;03m    Args:\u001b[39;00m\n\u001b[0;32m   (...)\u001b[0m\n\u001b[1;32m    275\u001b[0m \n\u001b[1;32m    276\u001b[0m \u001b[38;5;124;03m    \"\"\"\u001b[39;00m\n\u001b[0;32m--> 278\u001b[0m     \u001b[38;5;28;01massert\u001b[39;00m (\n\u001b[1;32m    279\u001b[0m         \u001b[38;5;28mlen\u001b[39m(\u001b[38;5;28mself\u001b[39m\u001b[38;5;241m.\u001b[39mheader) \u001b[38;5;241m>\u001b[39m \u001b[38;5;241m0\u001b[39m\n\u001b[1;32m    280\u001b[0m     ), \u001b[38;5;124m\"\u001b[39m\u001b[38;5;124mMust read file header before curves can be extracted.\u001b[39m\u001b[38;5;124m\"\u001b[39m\n\u001b[1;32m    281\u001b[0m     \u001b[38;5;28mself\u001b[39m\u001b[38;5;241m.\u001b[39mcurves \u001b[38;5;241m=\u001b[39m []\n\u001b[1;32m    282\u001b[0m     \u001b[38;5;28mself\u001b[39m\u001b[38;5;241m.\u001b[39mcurve_count \u001b[38;5;241m=\u001b[39m \u001b[38;5;241m0\u001b[39m\n",
      "\u001b[0;31mAssertionError\u001b[0m: Must read file header before curves can be extracted."
     ]
    }
   ],
   "source": [
    "import pandas as pa\n",
    "import gamry_parser as parser\n",
    "import random\n",
    "import os\n",
    "\n",
    "directory = '/Users/sabrinahu/Documents/COLLEGE FOLDERS/In/WASHINGTON UNIV. IN ST. LOUIS 11.4.18/Apfel group/electrochem data'\n",
    "os.chdir(directory)\n",
    "\n",
    "file = '/Users/sabrinahu/Documents/COLLEGE FOLDERS/In/WASHINGTON UNIV. IN ST. LOUIS 11.4.18/Apfel group/electrochem data/20220718_Fe4Co3Ni2_3.05mgcm2_20wtXA9_iPaH2O_75C_12hr_chronop_-500mAcm-2'\n",
    "gp = parser.GamryParser()\n",
    "gp.load(filename=file)\n",
    "\n",
    "print(\"experiment type: {}\".format(gp.get_experiment_type()))\n",
    "print(\"loaded curves: {}\".format(gp.get_curve_count()))\n",
    "\n",
    "curve_index = random.randint(1,gp.get_curve_count())\n",
    "print(\"showing curve #{}\".format(curve_index))\n",
    "print(gp.get_curve_data(curve_index))\n",
    "\n"
   ]
  },
  {
   "cell_type": "code",
   "execution_count": null,
   "id": "566f8fe8",
   "metadata": {},
   "outputs": [],
   "source": []
  }
 ],
 "metadata": {
  "kernelspec": {
   "display_name": "Python 3 (ipykernel)",
   "language": "python",
   "name": "python3"
  },
  "language_info": {
   "codemirror_mode": {
    "name": "ipython",
    "version": 3
   },
   "file_extension": ".py",
   "mimetype": "text/x-python",
   "name": "python",
   "nbconvert_exporter": "python",
   "pygments_lexer": "ipython3",
   "version": "3.9.12"
  }
 },
 "nbformat": 4,
 "nbformat_minor": 5
}
